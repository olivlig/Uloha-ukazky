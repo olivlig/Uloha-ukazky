{
 "cells": [
  {
   "cell_type": "code",
   "execution_count": 1,
   "id": "cf65b6e4",
   "metadata": {},
   "outputs": [],
   "source": [
    "R.<y>=QQ[]"
   ]
  },
  {
   "cell_type": "code",
   "execution_count": 2,
   "id": "e41e4660",
   "metadata": {},
   "outputs": [],
   "source": [
    "presnost=200"
   ]
  },
  {
   "cell_type": "code",
   "execution_count": 3,
   "id": "fe72a2ac",
   "metadata": {},
   "outputs": [],
   "source": [
    "CC=ComplexField(presnost)"
   ]
  },
  {
   "cell_type": "code",
   "execution_count": 4,
   "id": "dc91241d",
   "metadata": {},
   "outputs": [],
   "source": [
    "def skolske_nasobeni_pol(f,g):\n",
    "    n = f.degree()\n",
    "    m = g.degree()\n",
    "    res = 0\n",
    "    for i in range(n+m+1):\n",
    "        coef_sum = 0\n",
    "        for j in range(max(0,i-m),min(i,n)+1):\n",
    "            coef_sum += f[j]*g[i-j]\n",
    "        res +=(f.args()[0]^i)*coef_sum\n",
    "    return res\n",
    "\n",
    "\"\"\" Vydel polynomy f a g se zbytkem\n",
    "Vrati dvojici q,r, kde q je podíl a r zbyte splnujici deg(r) < deg(g); r = f-qg\n",
    "\"\"\"\n",
    "def skolske_deleni_pol(f,g):\n",
    "    if g == 0:\n",
    "        raise ZeroDivisionError(\"division by zero polynomial\")\n",
    "    res = 0\n",
    "    while f.degree() >= g.degree():\n",
    "        lm = (f.lc() / g.lc())*f.args()[0]^(f.degree()-g.degree()) #f.args()[0] returns the polynomial variable\n",
    "        res += lm\n",
    "        f = f - skolske_nasobeni_pol(lm,g)\n",
    "    return res,f"
   ]
  },
  {
   "cell_type": "code",
   "execution_count": 5,
   "id": "27ec5f2b",
   "metadata": {},
   "outputs": [],
   "source": [
    "\"\"\"Spočítá FFT, viz skripta\n",
    "-- n: počet koeficientů\n",
    "-- omega: příslušná n-tá odmocnina z 1\n",
    "-- coeffs: koeficienty \n",
    "\"\"\"\n",
    "\n",
    "def FFT(n,omega,coeffs):\n",
    "    if n == 1:\n",
    "        return coeffs\n",
    "    n2 = n//2\n",
    "    b = FFT(n2, omega*omega,coeffs[::2]) #Alternativně coeffs[::2] [coeffs[2*i] for i in range(n2)]\n",
    "    c = FFT(n2, omega*omega,coeffs[1::2]) #coeffs[1::2] [coeffs[2*i+1] for i in range(n2)]\n",
    "    res = [0 for i in range(n)]\n",
    "    om_pow = 1\n",
    "    for i in range(n2):\n",
    "        temp = om_pow*c[i]\n",
    "        res[i] = b[i]+temp\n",
    "        res[n2+i] = b[i]-temp\n",
    "        om_pow *= omega\n",
    "    return res\n",
    "        \n",
    "#Inverzní FFT\n",
    "def IFFT(n,omega,coeffs):\n",
    "    inv = omega^(-1)\n",
    "    return [(omega.parent()(n))^(-1)*elem for elem in FFT(n,inv,coeffs)] \n",
    "#omega.parent() najde okruh ze kterého je omega, aby v něm mohla invertovat n"
   ]
  },
  {
   "cell_type": "code",
   "execution_count": 6,
   "id": "bc3e4c76",
   "metadata": {},
   "outputs": [],
   "source": [
    "\"\"\"Funkce pro násobení dvou celočíselných polynomů za použítí komplexních odmocnin z 1\n",
    "-- f,g: libovolné polynomy\n",
    "-- prec: počet bitů s jejichž přesností se počítá v komplexních číslech\n",
    "\"\"\"\n",
    "def mul_complex(f,g, prec = 64):\n",
    "    C = ComplexField(prec)\n",
    "    n = f.degree()+g.degree()+1\n",
    "    n = 1 << n.nbits() #dosadí do n nejbližší větší mocninu 2 než (stupeň f + stupeň g)\n",
    "    \n",
    "    f_coeffs = f.coefficients(sparse=False)+[0] * (n - f.degree()-1) #doplní nulami koeficienty f a g do počtu n \n",
    "    g_coeffs = g.coefficients(sparse=False)+[0] * (n - g.degree()-1) #k získání koef. lze použít i např. f.list()\n",
    "    omega = C(e)**(C(2.)*C(pi)*C(I)/C(n)) #n-tá odmocnina z 1\n",
    "    F = FFT(n,omega,f_coeffs)\n",
    "    G = FFT(n,omega,g_coeffs)\n",
    "    RES = [F[i]*G[i] for i in range(n)]\n",
    "    res = IFFT(n,omega,RES)\n",
    "    #print(res[::-1])\n",
    "    res = [item.real().round() for item in res] #vezme z komplexního čísla reálnou část a zaokrouhlí ji na nejbližší celé číslo\n",
    "    return f.parent(res) #převede koeficienty zpátky do polynomu z původního oboru (ten je = f.parent())"
   ]
  },
  {
   "cell_type": "code",
   "execution_count": 7,
   "id": "28d1c05b",
   "metadata": {},
   "outputs": [],
   "source": [
    "# Vynásobí dva racionální polynomy za pomocí komplexní odmocniny z 1 a FFT\n",
    "def rft(f,g, prec=presnost):\n",
    "    if R(f).is_constant() or R(g).is_constant():\n",
    "        return f*g\n",
    "    a = f.denominator()\n",
    "    b = g.denominator()\n",
    "    ff = (a*f).change_ring(ZZ)\n",
    "    gg = (b*g).change_ring(ZZ)\n",
    "    res = mul_complex(ff,gg,prec).change_ring(QQ)\n",
    "    return res/(a*b)\n"
   ]
  },
  {
   "cell_type": "code",
   "execution_count": 27,
   "id": "d40ba9ef",
   "metadata": {},
   "outputs": [],
   "source": [
    "# Vynásobí dva racionální polynomy za pomocí modularneho nasobenia\n",
    "def fast_mul_rat(f,g, prec=64):\n",
    "    try:\n",
    "        fstupen=f.degree()\n",
    "        gstupen=g.degree()\n",
    "    except:\n",
    "        return f*g\n",
    "    a = f.denominator()\n",
    "    b = g.denominator()\n",
    "    ff = (a*f).change_ring(ZZ)\n",
    "    gg = (b*g).change_ring(ZZ)\n",
    "    res = modular_fast_mul(ff,gg).change_ring(QQ)\n",
    "    return res/(a*b)\n",
    "\n",
    "\n",
    "\n",
    "#Modulárně za pomocí FFT vynásobí dva celočíselné polynomy\n",
    "def modular_fast_mul(f,g):\n",
    "    if f == 0 or g == 0:\n",
    "        return f.parent(0)\n",
    "    try:\n",
    "        fstupen=f.degree()\n",
    "        gstupen=g.degree()\n",
    "    except:\n",
    "        return f*g\n",
    "    k = (fstupen+gstupen+1).nbits() #aby 2^k>f.degree()+g.degree()\n",
    "    r = max(abs(max(f)),abs(min(f)))\n",
    "    s = max(abs(max(g)),abs(min(g)))\n",
    "    n = 2*(max(fstupen,gstupen)+1)*r*s\n",
    "    p = find_suitable_prime(k,n)\n",
    "    \n",
    "    pow2 = 2^k \n",
    "    F = Zmod(p)\n",
    "    S = F['x']\n",
    "    fp = S(f) #polynomials in Zmod(p)[]\n",
    "    gp = S(g)\n",
    "    omega = F.multiplicative_generator() #finds pow2-th root of unity in Zmod(p)\n",
    "    omega = omega^(omega.multiplicative_order()>>k)\n",
    "    \n",
    "    f_coeffs = fp.list()+[F(0)] * (pow2 - fp.degree()-1) #doplní nulami koeficienty f a g do počtu k\n",
    "    g_coeffs = gp.list()+[F(0)] * (pow2 - gp.degree()-1)\n",
    "    F = FFT(pow2,omega,f_coeffs)\n",
    "    G = FFT(pow2,omega,g_coeffs)\n",
    "    RES = [F[i]*G[i] for i in range(pow2)]\n",
    "    res = IFFT(pow2,omega,RES)\n",
    "    for i in range(len(res)):\n",
    "        res[i] = ZZ(res[i])\n",
    "        if res[i]> p//2:\n",
    "            res[i] -= p #preved cleny zpatky do intervalu [-p//2,p//2]\n",
    "    return f.parent(res)\n",
    "    \n",
    "\n",
    "# Najde prvočíslo p>n, že 2^k | p-1.\n",
    "def find_suitable_prime(k,n):\n",
    "    p = 1 << (n.nbits() - k) #najde nějaké číslo dost velké, aby p*2^k > n jako začátek\n",
    "    pow2 = 1 << k #t = 2^k\n",
    "    p=p*pow2+1 #tvar a*2^k+1\n",
    "    \n",
    "    while True:\n",
    "        p+=pow2\n",
    "        if p.is_prime():\n",
    "            break\n",
    "    return p\n"
   ]
  },
  {
   "cell_type": "code",
   "execution_count": 9,
   "id": "6b0202a5",
   "metadata": {},
   "outputs": [],
   "source": [
    "def inverzo(p,n):\n",
    "    #print(p)\n",
    "    try:\n",
    "        p.is_constant() #skusi ci p je polynom (.is constant nie je implementovana pre racionalne cisla)\n",
    "    except:\n",
    "        return 1/p\n",
    "    y=p.parent().gens()[0]     \n",
    "    q=p.constant_coefficient()\n",
    "    if q==0:\n",
    "        raise Exception(\"neinvertovatelna vecicka\")\n",
    "    q=1/q\n",
    "    #print(f\"opakujem to tu {ZZ(n).nbits()+1} krat!!!\")\n",
    "    for i in range(1,ZZ(n).nbits()+1):\n",
    "        q=(rft(q,(2-rft(p,q)))).truncate(2^(i))\n",
    "    return R(q).truncate(n)"
   ]
  },
  {
   "cell_type": "code",
   "execution_count": 23,
   "id": "476bbe3c",
   "metadata": {},
   "outputs": [],
   "source": [
    "def inverzo_modular(p,n):\n",
    "    #print(p)\n",
    "    try:\n",
    "        p.is_constant() #skusi ci p je polynom (.is constant nie je implementovana pre racionalne cisla)\n",
    "    except:\n",
    "        return 1/p\n",
    "    y=p.parent().gens()[0]     \n",
    "    q=p.constant_coefficient()\n",
    "    if q==0:\n",
    "        raise Exception(\"neinvertovatelna vecicka\")\n",
    "    q=1/q\n",
    "    #print(f\"opakujem to tu {ZZ(n).nbits()+1} krat!!!\")\n",
    "    for i in range(1,ZZ(n).nbits()+1):\n",
    "        q=(fast_mul_rat(q,(2-fast_mul_rat(p,q)))).truncate(2^(i))\n",
    "    return R(q).truncate(n)\n",
    "\n",
    "def pol_div_modular(f,g):\n",
    "    n=f.degree()\n",
    "    m=g.degree()\n",
    "    #op=lambda x: x.coefficients(sparse=false)[::-1]\n",
    "    op=lambda x: x.reverse()\n",
    "    if n<m:\n",
    "        return 0,f  #vrati rovno vysledok\n",
    "    y=f.parent().gens()[0]\n",
    "    c=inverzo_modular(op(g),n-m+1)\n",
    "    qo=fast_mul_rat(op(f),c).truncate(n-m+1)\n",
    "    q=op(qo)\n",
    "    q=q.shift(n-m-q.degree())\n",
    "    return (q,f-rft(g,q))"
   ]
  },
  {
   "cell_type": "code",
   "execution_count": 10,
   "id": "94877410",
   "metadata": {},
   "outputs": [],
   "source": [
    "def pol_div(f,g):\n",
    "    n=f.degree()\n",
    "    m=g.degree()\n",
    "    #op=lambda x: x.coefficients(sparse=false)[::-1]\n",
    "    op=lambda x: x.reverse()\n",
    "    if n<m:\n",
    "        return 0,f  #vrati rovno vysledok\n",
    "    y=f.parent().gens()[0]\n",
    "    c=inverzo(op(g),n-m+1)\n",
    "    qo=rft(op(f),c).truncate(n-m+1)\n",
    "    q=op(qo)\n",
    "    q=q.shift(n-m-q.degree())\n",
    "    return (q,f-rft(g,q))"
   ]
  },
  {
   "cell_type": "code",
   "execution_count": 11,
   "id": "f8bd4802",
   "metadata": {},
   "outputs": [],
   "source": [
    "dvoj_pol=lambda x,y:(R.random_element(x),R.random_element(y))"
   ]
  },
  {
   "cell_type": "code",
   "execution_count": 42,
   "id": "f8327ae4",
   "metadata": {},
   "outputs": [],
   "source": [
    "\n",
    "#funkcia na porovanie roznych funkcii na delenie alebo nasobenie dvoch polynomov\n",
    "def porovnanie(stupen=10,stupen2=(1,10),opakovani=25,vypis=False):\n",
    "    assert 0<stupen2[0] <= stupen2[1] <= stupen, 'stupen2 mimo rozsah'\n",
    "    vytlac=lambda x:print(x) if vypis==True else 0\n",
    "    vytlac(f'rychlost pre polynomy stupna {stupen}')\n",
    "    funkcie=[skolske_deleni_pol,pol_div,skolske_nasobeni_pol,fast_mul_rat,rft]\n",
    "    #funkcie=[skolske_deleni_pol,pol_div,pol_div_modular,skolske_nasobeni_pol,fast_mul_rat,rft]\n",
    "    funkcied={i.__name__:i for i in funkcie}\n",
    "    spravnostd=lambda x,y,f: any([i[0]==i[1] for i in zip(f(x,y),x.quo_rem(y))])\n",
    "    spravnostn=lambda x,y,f: any([i[0]==i[1] for i in zip(f(x,y),x*y)])\n",
    "    #print(ahoj[0])\n",
    "    \n",
    "    1+10*0.5           \n",
    "    vysledok={i.__name__:[] for i in funkcie}\n",
    "    for i in range(opakovani):\n",
    "        dvojica=(stupen,randint(*stupen2))\n",
    "        entita=dvoj_pol(*dvojica)\n",
    "        vytlac(f'\\t stupne: {stupen} : {dvojica[1]} ')\n",
    "        for f in vysledok.keys():\n",
    "            a,b=spravnostd(*entita,funkcied[f]),spravnostn(*entita,funkcied[f])\n",
    "            cas=timeit(f'{f}(*{entita})',seconds=True)\n",
    "            vytlac(f'{i}-ty pokus s funkciou \"{f}\" trval {cas}')\n",
    "            if a or b:\n",
    "                vytlac('\\n\\t vysledok bol spravny\\n')\n",
    "            else:\n",
    "                vytlac('\\t vysledok bol nespravny')\n",
    "            vysledok[f].append(cas)      \n",
    "    vysledok=dict(zip(vysledok,map(mean,vysledok.values())))\n",
    "    for i in vysledok:\n",
    "        vytlac(f'{i},\\t {vysledok[i]}')\n",
    "    vytlac('\\n\\n')\n",
    "    vysledok=sorted(vysledok.items(),key=lambda x:x[1])\n",
    "    if vypis:\n",
    "        for i in range(len(funkcie)-1):\n",
    "            nasobne=round(vysledok[i+1][1]/vysledok[i][1],5)\n",
    "            vytlac(f'{vysledok[i][0]} je {nasobne} rychlejsie nez {vysledok[i+1][0]}')\n",
    "    return vysledok"
   ]
  },
  {
   "cell_type": "markdown",
   "id": "e2ee4903",
   "metadata": {},
   "source": [
    "Funkcia porovnanie deli polynom stupna \"stupen\" nahodnym polynomom stupna z rozahu \"stupnen2\"\n",
    "toto robi \"opakovani\" krat a potom casy spriemeruje a vypise"
   ]
  },
  {
   "cell_type": "code",
   "execution_count": 32,
   "id": "c888011f",
   "metadata": {},
   "outputs": [
    {
     "name": "stdout",
     "output_type": "stream",
     "text": [
      "rychlost pre polynomy stupna 100\n",
      "\t stupne: 100 : 75 \n",
      "0-ty pokus s funkciou \"skolske_deleni_pol\" trval 0.05205428839981323\n",
      "\n",
      "\t vysledok bol spravny\n",
      "\n",
      "0-ty pokus s funkciou \"pol_div\" trval 0.04517690320026304\n",
      "\n",
      "\t vysledok bol spravny\n",
      "\n",
      "0-ty pokus s funkciou \"skolske_nasobeni_pol\" trval 0.01416775059995416\n",
      "\n",
      "\t vysledok bol spravny\n",
      "\n",
      "0-ty pokus s funkciou \"fast_mul_rat\" trval 0.006563978983991547\n",
      "\n",
      "\t vysledok bol spravny\n",
      "\n",
      "0-ty pokus s funkciou \"rft\" trval 0.011098856440003146\n",
      "\n",
      "\t vysledok bol spravny\n",
      "\n",
      "skolske_deleni_pol 0.05205428839981323\n",
      "pol_div 0.04517690320026304\n",
      "skolske_nasobeni_pol 0.01416775059995416\n",
      "fast_mul_rat 0.006563978983991547\n",
      "rft 0.011098856440003146\n",
      "fast_mul_rat je 1.69087 rychlejsie nez rft\n",
      "rft je 1.27651 rychlejsie nez skolske_nasobeni_pol\n",
      "skolske_nasobeni_pol je 3.18871 rychlejsie nez pol_div\n",
      "pol_div je 1.15223 rychlejsie nez skolske_deleni_pol\n"
     ]
    },
    {
     "data": {
      "text/plain": [
       "[('fast_mul_rat', 0.006563978983991547),\n",
       " ('rft', 0.011098856440003146),\n",
       " ('skolske_nasobeni_pol', 0.01416775059995416),\n",
       " ('pol_div', 0.04517690320026304),\n",
       " ('skolske_deleni_pol', 0.05205428839981323)]"
      ]
     },
     "execution_count": 32,
     "metadata": {},
     "output_type": "execute_result"
    }
   ],
   "source": [
    "porovnanie(stupen=100,stupen2=(50,100),opakovani=1,vypis=True)"
   ]
  },
  {
   "cell_type": "code",
   "execution_count": 37,
   "id": "9e7360be",
   "metadata": {},
   "outputs": [
    {
     "data": {
      "text/plain": [
       "[('skolske_nasobeni_pol', 0.002203001468802104),\n",
       " ('fast_mul_rat', 0.0024399671168002534),\n",
       " ('rft', 0.004355170802402426),\n",
       " ('skolske_deleni_pol', 0.014471904297589211),\n",
       " ('pol_div', 0.02306270548799512)]"
      ]
     },
     "execution_count": 37,
     "metadata": {},
     "output_type": "execute_result"
    }
   ],
   "source": [
    "porovnanie(stupen=50,stupen2=(1,50),opakovani=10,vypis=False)"
   ]
  },
  {
   "cell_type": "code",
   "execution_count": 39,
   "id": "531c77aa",
   "metadata": {},
   "outputs": [
    {
     "data": {
      "text/plain": [
       "[('skolske_nasobeni_pol', 0.00017265876416023825),\n",
       " ('skolske_deleni_pol', 0.00031986204825574534),\n",
       " ('fast_mul_rat', 0.0004068826113279211),\n",
       " ('rft', 0.001003667491519824),\n",
       " ('pol_div', 0.004010316379135357)]"
      ]
     },
     "execution_count": 39,
     "metadata": {},
     "output_type": "execute_result"
    }
   ],
   "source": [
    "porovnanie(stupen=10,stupen2=(1,10),opakovani=25,vypis=False)"
   ]
  },
  {
   "cell_type": "markdown",
   "id": "aa75978a",
   "metadata": {},
   "source": [
    "Tu vidime, ze pre polynomy malych stupnov si moc nepomozeme"
   ]
  },
  {
   "cell_type": "code",
   "execution_count": 33,
   "id": "1561576e",
   "metadata": {},
   "outputs": [
    {
     "name": "stdout",
     "output_type": "stream",
     "text": [
      "rychlost pre polynomy stupna 200\n",
      "skolske_deleni_pol 0.23280836513343575\n",
      "pol_div 0.1252749493332279\n",
      "skolske_nasobeni_pol 0.0660699384000812\n",
      "fast_mul_rat 0.02773029477335513\n",
      "rft 0.02470766125336619\n"
     ]
    },
    {
     "data": {
      "text/plain": [
       "[('rft', 0.02470766125336619),\n",
       " ('fast_mul_rat', 0.02773029477335513),\n",
       " ('skolske_nasobeni_pol', 0.0660699384000812),\n",
       " ('pol_div', 0.1252749493332279),\n",
       " ('skolske_deleni_pol', 0.23280836513343575)]"
      ]
     },
     "execution_count": 33,
     "metadata": {},
     "output_type": "execute_result"
    }
   ],
   "source": [
    "porovnanie(stupen=200,stupen2=(100,200),opakovani=3,vypis=False)"
   ]
  },
  {
   "cell_type": "markdown",
   "id": "aecacf86",
   "metadata": {},
   "source": [
    "pre polynomy podobne velkeho stupna usetrime viac casu"
   ]
  },
  {
   "cell_type": "code",
   "execution_count": 43,
   "id": "ab027eec",
   "metadata": {},
   "outputs": [
    {
     "data": {
      "text/plain": [
       "[('skolske_nasobeni_pol', 0.005723965104108792),\n",
       " ('fast_mul_rat', 0.006404999116002486),\n",
       " ('rft', 0.010381167442935598),\n",
       " ('pol_div', 0.0675950868066381),\n",
       " ('skolske_deleni_pol', 0.12077874009464963)]"
      ]
     },
     "execution_count": 43,
     "metadata": {},
     "output_type": "execute_result"
    }
   ],
   "source": [
    "porovnanie(stupen=100,stupen2=(1,50),opakovani=30,vypis=False)"
   ]
  },
  {
   "cell_type": "code",
   "execution_count": 41,
   "id": "f810a89c",
   "metadata": {},
   "outputs": [
    {
     "data": {
      "text/plain": [
       "[('skolske_deleni_pol', 0.0012193932838939756),\n",
       " ('fast_mul_rat', 0.010799050607199507),\n",
       " ('pol_div', 0.012891064289545368),\n",
       " ('rft', 0.013158801068003712),\n",
       " ('skolske_nasobeni_pol', 0.019473691507994474)]"
      ]
     },
     "execution_count": 41,
     "metadata": {},
     "output_type": "execute_result"
    }
   ],
   "source": [
    "porovnanie(stupen=100,stupen2=(99,100),opakovani=30,vypis=False)"
   ]
  },
  {
   "cell_type": "code",
   "execution_count": 45,
   "id": "b8b993ff",
   "metadata": {},
   "outputs": [
    {
     "name": "stdout",
     "output_type": "stream",
     "text": [
      "rychlost pre polynomy stupna 500\n",
      "\t stupne: 500 : 489 \n",
      "0-ty pokus s funkciou \"skolske_deleni_pol\" trval 0.22993143540006714\n",
      "\n",
      "\t vysledok bol spravny\n",
      "\n",
      "0-ty pokus s funkciou \"pol_div\" trval 0.28755402120004875\n",
      "\n",
      "\t vysledok bol spravny\n",
      "\n",
      "0-ty pokus s funkciou \"skolske_nasobeni_pol\" trval 0.6162642104001861\n",
      "\n",
      "\t vysledok bol spravny\n",
      "\n",
      "0-ty pokus s funkciou \"fast_mul_rat\" trval 0.12791859200006\n",
      "\n",
      "\t vysledok bol spravny\n",
      "\n",
      "0-ty pokus s funkciou \"rft\" trval 0.07742526080000971\n",
      "\n",
      "\t vysledok bol spravny\n",
      "\n",
      "skolske_deleni_pol,\t 0.22993143540006714\n",
      "pol_div,\t 0.28755402120004875\n",
      "skolske_nasobeni_pol,\t 0.6162642104001861\n",
      "fast_mul_rat,\t 0.12791859200006\n",
      "rft,\t 0.07742526080000971\n",
      "\n",
      "\n",
      "\n",
      "rft je 1.65216 rychlejsie nez fast_mul_rat\n",
      "fast_mul_rat je 1.79748 rychlejsie nez skolske_deleni_pol\n",
      "skolske_deleni_pol je 1.25061 rychlejsie nez pol_div\n",
      "pol_div je 2.14312 rychlejsie nez skolske_nasobeni_pol\n"
     ]
    },
    {
     "data": {
      "text/plain": [
       "[('rft', 0.07742526080000971),\n",
       " ('fast_mul_rat', 0.12791859200006),\n",
       " ('skolske_deleni_pol', 0.22993143540006714),\n",
       " ('pol_div', 0.28755402120004875),\n",
       " ('skolske_nasobeni_pol', 0.6162642104001861)]"
      ]
     },
     "execution_count": 45,
     "metadata": {},
     "output_type": "execute_result"
    }
   ],
   "source": [
    "porovnanie(stupen=500,stupen2=(450,500),opakovani=1,vypis=True)"
   ]
  },
  {
   "cell_type": "code",
   "execution_count": 46,
   "id": "1a8250b2",
   "metadata": {},
   "outputs": [
    {
     "name": "stdout",
     "output_type": "stream",
     "text": [
      "rychlost pre polynomy stupna 500\n",
      "\t stupne: 500 : 462 \n",
      "0-ty pokus s funkciou \"skolske_deleni_pol\" trval 1.282496268599789\n",
      "\n",
      "\t vysledok bol spravny\n",
      "\n",
      "0-ty pokus s funkciou \"pol_div\" trval 0.4453755197999271\n",
      "\t vysledok bol nespravny\n",
      "0-ty pokus s funkciou \"skolske_nasobeni_pol\" trval 0.5980018908001512\n",
      "\n",
      "\t vysledok bol spravny\n",
      "\n",
      "0-ty pokus s funkciou \"fast_mul_rat\" trval 0.8334430655999313\n",
      "\n",
      "\t vysledok bol spravny\n",
      "\n",
      "0-ty pokus s funkciou \"rft\" trval 0.07780714639993676\n",
      "\n",
      "\t vysledok bol spravny\n",
      "\n",
      "\t stupne: 500 : 481 \n",
      "1-ty pokus s funkciou \"skolske_deleni_pol\" trval 0.35029830359999325\n",
      "\n",
      "\t vysledok bol spravny\n",
      "\n",
      "1-ty pokus s funkciou \"pol_div\" trval 0.29877511399972717\n",
      "\n",
      "\t vysledok bol spravny\n",
      "\n",
      "1-ty pokus s funkciou \"skolske_nasobeni_pol\" trval 0.5808480325998971\n",
      "\n",
      "\t vysledok bol spravny\n",
      "\n",
      "1-ty pokus s funkciou \"fast_mul_rat\" trval 0.12610222379989863\n",
      "\n",
      "\t vysledok bol spravny\n",
      "\n",
      "1-ty pokus s funkciou \"rft\" trval 0.06968139679993328\n",
      "\n",
      "\t vysledok bol spravny\n",
      "\n",
      "\t stupne: 500 : 489 \n",
      "2-ty pokus s funkciou \"skolske_deleni_pol\" trval 0.2167198319999443\n",
      "\n",
      "\t vysledok bol spravny\n",
      "\n",
      "2-ty pokus s funkciou \"pol_div\" trval 0.2735554684000817\n",
      "\n",
      "\t vysledok bol spravny\n",
      "\n",
      "2-ty pokus s funkciou \"skolske_nasobeni_pol\" trval 0.5963885451998067\n",
      "\n",
      "\t vysledok bol spravny\n",
      "\n",
      "2-ty pokus s funkciou \"fast_mul_rat\" trval 0.2753229485999327\n",
      "\n",
      "\t vysledok bol spravny\n",
      "\n",
      "2-ty pokus s funkciou \"rft\" trval 0.07135880519999774\n",
      "\n",
      "\t vysledok bol spravny\n",
      "\n",
      "\t stupne: 500 : 461 \n",
      "3-ty pokus s funkciou \"skolske_deleni_pol\" trval 1.173671996399935\n",
      "\n",
      "\t vysledok bol spravny\n",
      "\n",
      "3-ty pokus s funkciou \"pol_div\" trval 0.3786705451999296\n",
      "\t vysledok bol nespravny\n",
      "3-ty pokus s funkciou \"skolske_nasobeni_pol\" trval 0.5473887718002516\n",
      "\n",
      "\t vysledok bol spravny\n",
      "\n",
      "3-ty pokus s funkciou \"fast_mul_rat\" trval 0.12979550340023707\n",
      "\n",
      "\t vysledok bol spravny\n",
      "\n",
      "3-ty pokus s funkciou \"rft\" trval 0.06585631259986258\n",
      "\n",
      "\t vysledok bol spravny\n",
      "\n",
      "\t stupne: 500 : 457 \n",
      "4-ty pokus s funkciou \"skolske_deleni_pol\" trval 1.139776674800305\n",
      "\n",
      "\t vysledok bol spravny\n",
      "\n",
      "4-ty pokus s funkciou \"pol_div\" trval 0.37053454899978533\n",
      "\n",
      "\t vysledok bol spravny\n",
      "\n",
      "4-ty pokus s funkciou \"skolske_nasobeni_pol\" trval 0.5362097654000536\n",
      "\n",
      "\t vysledok bol spravny\n",
      "\n",
      "4-ty pokus s funkciou \"fast_mul_rat\" trval 0.0687905654001952\n",
      "\n",
      "\t vysledok bol spravny\n",
      "\n",
      "4-ty pokus s funkciou \"rft\" trval 0.06428173899985268\n",
      "\n",
      "\t vysledok bol spravny\n",
      "\n",
      "\t stupne: 500 : 486 \n",
      "5-ty pokus s funkciou \"skolske_deleni_pol\" trval 0.34822358860001257\n",
      "\n",
      "\t vysledok bol spravny\n",
      "\n",
      "5-ty pokus s funkciou \"pol_div\" trval 0.2850878952001949\n",
      "\n",
      "\t vysledok bol spravny\n",
      "\n",
      "5-ty pokus s funkciou \"skolske_nasobeni_pol\" trval 0.6184416754000267\n",
      "\n",
      "\t vysledok bol spravny\n",
      "\n",
      "5-ty pokus s funkciou \"fast_mul_rat\" trval 0.1042314244001318\n",
      "\n",
      "\t vysledok bol spravny\n",
      "\n",
      "5-ty pokus s funkciou \"rft\" trval 0.06980377239997324\n",
      "\n",
      "\t vysledok bol spravny\n",
      "\n",
      "\t stupne: 500 : 474 \n",
      "6-ty pokus s funkciou \"skolske_deleni_pol\" trval 0.7234551863999513\n",
      "\n",
      "\t vysledok bol spravny\n",
      "\n",
      "6-ty pokus s funkciou \"pol_div\" trval 0.3246872207997512\n",
      "\n",
      "\t vysledok bol spravny\n",
      "\n",
      "6-ty pokus s funkciou \"skolske_nasobeni_pol\" trval 0.566698928400001\n",
      "\n",
      "\t vysledok bol spravny\n",
      "\n",
      "6-ty pokus s funkciou \"fast_mul_rat\" trval 0.1329555808002624\n",
      "\n",
      "\t vysledok bol spravny\n",
      "\n",
      "6-ty pokus s funkciou \"rft\" trval 0.0692115287998604\n",
      "\n",
      "\t vysledok bol spravny\n",
      "\n",
      "\t stupne: 500 : 477 \n",
      "7-ty pokus s funkciou \"skolske_deleni_pol\" trval 0.4765561944001092\n",
      "\n",
      "\t vysledok bol spravny\n",
      "\n",
      "7-ty pokus s funkciou \"pol_div\" trval 0.2839625325999805\n",
      "\n",
      "\t vysledok bol spravny\n",
      "\n",
      "7-ty pokus s funkciou \"skolske_nasobeni_pol\" trval 0.562761758600027\n",
      "\n",
      "\t vysledok bol spravny\n",
      "\n",
      "7-ty pokus s funkciou \"fast_mul_rat\" trval 0.11124622880015522\n",
      "\n",
      "\t vysledok bol spravny\n",
      "\n",
      "7-ty pokus s funkciou \"rft\" trval 0.06700338860027841\n",
      "\n",
      "\t vysledok bol spravny\n",
      "\n",
      "\t stupne: 500 : 485 \n",
      "8-ty pokus s funkciou \"skolske_deleni_pol\" trval 0.29197693259993684\n",
      "\n",
      "\t vysledok bol spravny\n",
      "\n",
      "8-ty pokus s funkciou \"pol_div\" trval 0.36597603820009683\n",
      "\t vysledok bol nespravny\n",
      "8-ty pokus s funkciou \"skolske_nasobeni_pol\" trval 0.5379489623999689\n",
      "\n",
      "\t vysledok bol spravny\n",
      "\n",
      "8-ty pokus s funkciou \"fast_mul_rat\" trval 0.06531049479999637\n",
      "\n",
      "\t vysledok bol spravny\n",
      "\n",
      "8-ty pokus s funkciou \"rft\" trval 0.06533692259981763\n",
      "\n",
      "\t vysledok bol spravny\n",
      "\n",
      "\t stupne: 500 : 487 \n",
      "9-ty pokus s funkciou \"skolske_deleni_pol\" trval 0.26647306920021946\n",
      "\n",
      "\t vysledok bol spravny\n",
      "\n",
      "9-ty pokus s funkciou \"pol_div\" trval 0.27204353200031617\n",
      "\n",
      "\t vysledok bol spravny\n",
      "\n",
      "9-ty pokus s funkciou \"skolske_nasobeni_pol\" trval 0.6224965958001121\n",
      "\n",
      "\t vysledok bol spravny\n",
      "\n",
      "9-ty pokus s funkciou \"fast_mul_rat\" trval 0.16326537579989236\n",
      "\n",
      "\t vysledok bol spravny\n",
      "\n",
      "9-ty pokus s funkciou \"rft\" trval 0.07478988780021609\n",
      "\n",
      "\t vysledok bol spravny\n",
      "\n",
      "skolske_deleni_pol,\t 0.6269648046600195\n",
      "pol_div,\t 0.329866841519979\n",
      "skolske_nasobeni_pol,\t 0.5767184926400296\n",
      "fast_mul_rat,\t 0.2010463411400633\n",
      "rft,\t 0.06951309001997288\n",
      "\n",
      "\n",
      "\n",
      "rft je 2.89221 rychlejsie nez fast_mul_rat\n",
      "fast_mul_rat je 1.64075 rychlejsie nez pol_div\n",
      "pol_div je 1.74834 rychlejsie nez skolske_nasobeni_pol\n",
      "skolske_nasobeni_pol je 1.08712 rychlejsie nez skolske_deleni_pol\n"
     ]
    },
    {
     "data": {
      "text/plain": [
       "[('rft', 0.06951309001997288),\n",
       " ('fast_mul_rat', 0.2010463411400633),\n",
       " ('pol_div', 0.329866841519979),\n",
       " ('skolske_nasobeni_pol', 0.5767184926400296),\n",
       " ('skolske_deleni_pol', 0.6269648046600195)]"
      ]
     },
     "execution_count": 46,
     "metadata": {},
     "output_type": "execute_result"
    }
   ],
   "source": [
    "porovnanie(stupen=500,stupen2=(450,500),opakovani=10,vypis=True)"
   ]
  }
 ],
 "metadata": {
  "kernelspec": {
   "display_name": "SageMath 9.5",
   "language": "sage",
   "name": "sagemath"
  },
  "language_info": {
   "codemirror_mode": {
    "name": "ipython",
    "version": 3
   },
   "file_extension": ".py",
   "mimetype": "text/x-python",
   "name": "python",
   "nbconvert_exporter": "python",
   "pygments_lexer": "ipython3",
   "version": "3.10.6"
  }
 },
 "nbformat": 4,
 "nbformat_minor": 5
}
